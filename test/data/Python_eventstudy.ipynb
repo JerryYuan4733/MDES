{
 "cells": [
  {
   "cell_type": "code",
   "execution_count": 1,
   "id": "2eb57a60",
   "metadata": {
    "scrolled": true
   },
   "outputs": [
    {
     "name": "stdout",
     "output_type": "stream",
     "text": [
      "Defaulting to user installation because normal site-packages is not writeable\n",
      "Collecting eventstudy\n",
      "  Downloading eventstudy-0.1a12-py3-none-any.whl (41 kB)\n",
      "Requirement already satisfied: statsmodels in c:\\programdata\\anaconda3\\lib\\site-packages (from eventstudy) (0.13.2)\n",
      "Requirement already satisfied: matplotlib in c:\\programdata\\anaconda3\\lib\\site-packages (from eventstudy) (3.5.1)\n",
      "Requirement already satisfied: numpy in c:\\programdata\\anaconda3\\lib\\site-packages (from eventstudy) (1.21.5)\n",
      "Requirement already satisfied: scipy in c:\\programdata\\anaconda3\\lib\\site-packages (from eventstudy) (1.7.3)\n",
      "Requirement already satisfied: pandas in c:\\users\\jerry yuan\\appdata\\roaming\\python\\python39\\site-packages (from eventstudy) (1.2.4)\n",
      "Requirement already satisfied: kiwisolver>=1.0.1 in c:\\programdata\\anaconda3\\lib\\site-packages (from matplotlib->eventstudy) (1.3.2)\n",
      "Requirement already satisfied: cycler>=0.10 in c:\\programdata\\anaconda3\\lib\\site-packages (from matplotlib->eventstudy) (0.11.0)\n",
      "Requirement already satisfied: fonttools>=4.22.0 in c:\\programdata\\anaconda3\\lib\\site-packages (from matplotlib->eventstudy) (4.25.0)\n",
      "Requirement already satisfied: pillow>=6.2.0 in c:\\programdata\\anaconda3\\lib\\site-packages (from matplotlib->eventstudy) (9.0.1)\n",
      "Requirement already satisfied: pyparsing>=2.2.1 in c:\\programdata\\anaconda3\\lib\\site-packages (from matplotlib->eventstudy) (3.0.4)\n",
      "Requirement already satisfied: packaging>=20.0 in c:\\programdata\\anaconda3\\lib\\site-packages (from matplotlib->eventstudy) (21.3)\n",
      "Requirement already satisfied: python-dateutil>=2.7 in c:\\programdata\\anaconda3\\lib\\site-packages (from matplotlib->eventstudy) (2.8.2)\n",
      "Requirement already satisfied: six>=1.5 in c:\\programdata\\anaconda3\\lib\\site-packages (from python-dateutil>=2.7->matplotlib->eventstudy) (1.16.0)\n",
      "Requirement already satisfied: pytz>=2017.3 in c:\\programdata\\anaconda3\\lib\\site-packages (from pandas->eventstudy) (2021.3)\n",
      "Requirement already satisfied: patsy>=0.5.2 in c:\\programdata\\anaconda3\\lib\\site-packages (from statsmodels->eventstudy) (0.5.2)\n",
      "Installing collected packages: eventstudy\n",
      "Successfully installed eventstudy-0.1a12\n",
      "Note: you may need to restart the kernel to use updated packages.\n"
     ]
    }
   ],
   "source": [
    "pip install eventstudy"
   ]
  },
  {
   "cell_type": "code",
   "execution_count": 1,
   "id": "78002b18",
   "metadata": {},
   "outputs": [],
   "source": [
    "import eventstudy as es\n",
    "import numpy as np\n",
    "import matplotlib.pyplot as plt\n",
    "import pandas as pd"
   ]
  },
  {
   "cell_type": "code",
   "execution_count": 2,
   "id": "824faf49",
   "metadata": {},
   "outputs": [],
   "source": [
    "es.Single.import_returns('returns.csv')\n"
   ]
  },
  {
   "cell_type": "code",
   "execution_count": 3,
   "id": "1fde8109",
   "metadata": {},
   "outputs": [],
   "source": [
    "ar=[0,0,0,0,0,0,0]"
   ]
  },
  {
   "cell_type": "code",
   "execution_count": 4,
   "id": "71020520",
   "metadata": {},
   "outputs": [],
   "source": [
    "\n",
    "event1=es.Single.market_model(\n",
    "        security_ticker =\"MSFT\" ,\n",
    "        market_ticker = 'SPY',\n",
    "        event_date = np.datetime64('2003-01-16'),\n",
    "        event_window = (-2,+2), \n",
    "        estimation_size = 250,\n",
    "        buffer_size = 1\n",
    ")"
   ]
  },
  {
   "cell_type": "code",
   "execution_count": 5,
   "id": "2c6ef8f0",
   "metadata": {},
   "outputs": [
    {
     "data": {
      "text/html": [
       "<div>\n",
       "<style scoped>\n",
       "    .dataframe tbody tr th:only-of-type {\n",
       "        vertical-align: middle;\n",
       "    }\n",
       "\n",
       "    .dataframe tbody tr th {\n",
       "        vertical-align: top;\n",
       "    }\n",
       "\n",
       "    .dataframe thead th {\n",
       "        text-align: right;\n",
       "    }\n",
       "</style>\n",
       "<table border=\"1\" class=\"dataframe\">\n",
       "  <thead>\n",
       "    <tr style=\"text-align: right;\">\n",
       "      <th></th>\n",
       "      <th>AR</th>\n",
       "      <th>Std. E. AR</th>\n",
       "      <th>CAR</th>\n",
       "      <th>Std. E. CAR</th>\n",
       "      <th>T-stat</th>\n",
       "      <th>P-value</th>\n",
       "    </tr>\n",
       "  </thead>\n",
       "  <tbody>\n",
       "    <tr>\n",
       "      <th>-2</th>\n",
       "      <td>0.00203</td>\n",
       "      <td>0.01659</td>\n",
       "      <td>0.002</td>\n",
       "      <td>0.01659</td>\n",
       "      <td>0.12</td>\n",
       "      <td>0.90</td>\n",
       "    </tr>\n",
       "    <tr>\n",
       "      <th>-1</th>\n",
       "      <td>0.00628</td>\n",
       "      <td>0.01659</td>\n",
       "      <td>0.008</td>\n",
       "      <td>0.02346</td>\n",
       "      <td>0.35</td>\n",
       "      <td>0.72</td>\n",
       "    </tr>\n",
       "    <tr>\n",
       "      <th>0</th>\n",
       "      <td>-0.01172</td>\n",
       "      <td>0.01659</td>\n",
       "      <td>-0.003</td>\n",
       "      <td>0.02873</td>\n",
       "      <td>-0.12</td>\n",
       "      <td>0.91</td>\n",
       "    </tr>\n",
       "    <tr>\n",
       "      <th>1</th>\n",
       "      <td>-0.05287</td>\n",
       "      <td>0.01659</td>\n",
       "      <td>-0.056 *</td>\n",
       "      <td>0.03317</td>\n",
       "      <td>-1.70</td>\n",
       "      <td>0.09</td>\n",
       "    </tr>\n",
       "    <tr>\n",
       "      <th>2</th>\n",
       "      <td>0.01702</td>\n",
       "      <td>0.01659</td>\n",
       "      <td>-0.039</td>\n",
       "      <td>0.03709</td>\n",
       "      <td>-1.06</td>\n",
       "      <td>0.29</td>\n",
       "    </tr>\n",
       "  </tbody>\n",
       "</table>\n",
       "</div>"
      ],
      "text/plain": [
       "         AR  Std. E. AR       CAR  Std. E. CAR  T-stat  P-value\n",
       "-2  0.00203     0.01659     0.002      0.01659    0.12     0.90\n",
       "-1  0.00628     0.01659     0.008      0.02346    0.35     0.72\n",
       "0  -0.01172     0.01659    -0.003      0.02873   -0.12     0.91\n",
       "1  -0.05287     0.01659  -0.056 *      0.03317   -1.70     0.09\n",
       "2   0.01702     0.01659    -0.039      0.03709   -1.06     0.29"
      ]
     },
     "execution_count": 5,
     "metadata": {},
     "output_type": "execute_result"
    }
   ],
   "source": [
    "event1.results(decimals=[5,5,3,5,2,2])"
   ]
  },
  {
   "cell_type": "code",
   "execution_count": 6,
   "id": "1f89bdf4",
   "metadata": {},
   "outputs": [
    {
     "data": {
      "text/plain": [
       "-2    0.00203\n",
       "-1    0.00628\n",
       "0    -0.01172\n",
       "1    -0.05287\n",
       "2     0.01702\n",
       "Name: AR, dtype: float64"
      ]
     },
     "execution_count": 6,
     "metadata": {},
     "output_type": "execute_result"
    }
   ],
   "source": [
    "event1.results(decimals=[5,5,3,5,2,2])[\"AR\"]"
   ]
  },
  {
   "cell_type": "code",
   "execution_count": 7,
   "id": "665a2c0f",
   "metadata": {},
   "outputs": [],
   "source": [
    "## results from Julia package\n",
    "t=[ 0.0019911042579372883,\n",
    "  0.00623522028136142,\n",
    " -0.011764170351559555,\n",
    " -0.052906260408870705,\n",
    "  0.01697477393791851]"
   ]
  },
  {
   "cell_type": "code",
   "execution_count": 8,
   "id": "e1f953de",
   "metadata": {
    "scrolled": true
   },
   "outputs": [
    {
     "data": {
      "text/plain": [
       "-2    0.000039\n",
       "-1    0.000045\n",
       "0     0.000044\n",
       "1     0.000036\n",
       "2     0.000045\n",
       "Name: AR, dtype: float64"
      ]
     },
     "execution_count": 8,
     "metadata": {},
     "output_type": "execute_result"
    }
   ],
   "source": [
    "## difference between Julia and Python package\n",
    "event1.results(decimals=[5,5,3,5,2,2])[\"AR\"]-t"
   ]
  },
  {
   "cell_type": "code",
   "execution_count": 36,
   "id": "02b7f5c3",
   "metadata": {
    "scrolled": true
   },
   "outputs": [
    {
     "data": {
      "text/html": [
       "<div>\n",
       "<style scoped>\n",
       "    .dataframe tbody tr th:only-of-type {\n",
       "        vertical-align: middle;\n",
       "    }\n",
       "\n",
       "    .dataframe tbody tr th {\n",
       "        vertical-align: top;\n",
       "    }\n",
       "\n",
       "    .dataframe thead th {\n",
       "        text-align: right;\n",
       "    }\n",
       "</style>\n",
       "<table border=\"1\" class=\"dataframe\">\n",
       "  <thead>\n",
       "    <tr style=\"text-align: right;\">\n",
       "      <th></th>\n",
       "      <th>firm_id</th>\n",
       "      <th>date</th>\n",
       "      <th>event_window_start</th>\n",
       "      <th>event_window_end</th>\n",
       "      <th>est_window_start</th>\n",
       "      <th>est_window_end</th>\n",
       "    </tr>\n",
       "  </thead>\n",
       "  <tbody>\n",
       "    <tr>\n",
       "      <th>0</th>\n",
       "      <td>MSFT</td>\n",
       "      <td>2003-01-21</td>\n",
       "      <td>2003-01-14</td>\n",
       "      <td>2003-01-21</td>\n",
       "      <td>2002-01-15</td>\n",
       "      <td>2003-01-13</td>\n",
       "    </tr>\n",
       "    <tr>\n",
       "      <th>1</th>\n",
       "      <td>MSFT</td>\n",
       "      <td>2003-01-21</td>\n",
       "      <td>2003-01-14</td>\n",
       "      <td>2003-01-21</td>\n",
       "      <td>2002-01-15</td>\n",
       "      <td>2003-01-13</td>\n",
       "    </tr>\n",
       "    <tr>\n",
       "      <th>2</th>\n",
       "      <td>MSFT</td>\n",
       "      <td>2003-01-16</td>\n",
       "      <td>2003-01-14</td>\n",
       "      <td>2003-01-21</td>\n",
       "      <td>2002-01-15</td>\n",
       "      <td>2003-01-13</td>\n",
       "    </tr>\n",
       "    <tr>\n",
       "      <th>3</th>\n",
       "      <td>MSFT</td>\n",
       "      <td>2003-01-17</td>\n",
       "      <td>2003-01-14</td>\n",
       "      <td>2003-01-21</td>\n",
       "      <td>2002-01-15</td>\n",
       "      <td>2003-01-13</td>\n",
       "    </tr>\n",
       "    <tr>\n",
       "      <th>4</th>\n",
       "      <td>MSFT</td>\n",
       "      <td>2003-01-21</td>\n",
       "      <td>2003-01-14</td>\n",
       "      <td>2003-01-21</td>\n",
       "      <td>2002-01-15</td>\n",
       "      <td>2003-01-13</td>\n",
       "    </tr>\n",
       "    <tr>\n",
       "      <th>...</th>\n",
       "      <td>...</td>\n",
       "      <td>...</td>\n",
       "      <td>...</td>\n",
       "      <td>...</td>\n",
       "      <td>...</td>\n",
       "      <td>...</td>\n",
       "    </tr>\n",
       "    <tr>\n",
       "      <th>999995</th>\n",
       "      <td>MSFT</td>\n",
       "      <td>2003-01-14</td>\n",
       "      <td>2003-01-14</td>\n",
       "      <td>2003-01-21</td>\n",
       "      <td>2002-01-15</td>\n",
       "      <td>2003-01-13</td>\n",
       "    </tr>\n",
       "    <tr>\n",
       "      <th>999996</th>\n",
       "      <td>MSFT</td>\n",
       "      <td>2003-01-21</td>\n",
       "      <td>2003-01-14</td>\n",
       "      <td>2003-01-21</td>\n",
       "      <td>2002-01-15</td>\n",
       "      <td>2003-01-13</td>\n",
       "    </tr>\n",
       "    <tr>\n",
       "      <th>999997</th>\n",
       "      <td>MSFT</td>\n",
       "      <td>2003-01-16</td>\n",
       "      <td>2003-01-14</td>\n",
       "      <td>2003-01-21</td>\n",
       "      <td>2002-01-15</td>\n",
       "      <td>2003-01-13</td>\n",
       "    </tr>\n",
       "    <tr>\n",
       "      <th>999998</th>\n",
       "      <td>MSFT</td>\n",
       "      <td>2003-01-14</td>\n",
       "      <td>2003-01-14</td>\n",
       "      <td>2003-01-21</td>\n",
       "      <td>2002-01-15</td>\n",
       "      <td>2003-01-13</td>\n",
       "    </tr>\n",
       "    <tr>\n",
       "      <th>999999</th>\n",
       "      <td>MSFT</td>\n",
       "      <td>2003-01-17</td>\n",
       "      <td>2003-01-14</td>\n",
       "      <td>2003-01-21</td>\n",
       "      <td>2002-01-15</td>\n",
       "      <td>2003-01-13</td>\n",
       "    </tr>\n",
       "  </tbody>\n",
       "</table>\n",
       "<p>1000000 rows × 6 columns</p>\n",
       "</div>"
      ],
      "text/plain": [
       "       firm_id        date event_window_start event_window_end  \\\n",
       "0         MSFT  2003-01-21         2003-01-14       2003-01-21   \n",
       "1         MSFT  2003-01-21         2003-01-14       2003-01-21   \n",
       "2         MSFT  2003-01-16         2003-01-14       2003-01-21   \n",
       "3         MSFT  2003-01-17         2003-01-14       2003-01-21   \n",
       "4         MSFT  2003-01-21         2003-01-14       2003-01-21   \n",
       "...        ...         ...                ...              ...   \n",
       "999995    MSFT  2003-01-14         2003-01-14       2003-01-21   \n",
       "999996    MSFT  2003-01-21         2003-01-14       2003-01-21   \n",
       "999997    MSFT  2003-01-16         2003-01-14       2003-01-21   \n",
       "999998    MSFT  2003-01-14         2003-01-14       2003-01-21   \n",
       "999999    MSFT  2003-01-17         2003-01-14       2003-01-21   \n",
       "\n",
       "       est_window_start est_window_end  \n",
       "0            2002-01-15     2003-01-13  \n",
       "1            2002-01-15     2003-01-13  \n",
       "2            2002-01-15     2003-01-13  \n",
       "3            2002-01-15     2003-01-13  \n",
       "4            2002-01-15     2003-01-13  \n",
       "...                 ...            ...  \n",
       "999995       2002-01-15     2003-01-13  \n",
       "999996       2002-01-15     2003-01-13  \n",
       "999997       2002-01-15     2003-01-13  \n",
       "999998       2002-01-15     2003-01-13  \n",
       "999999       2002-01-15     2003-01-13  \n",
       "\n",
       "[1000000 rows x 6 columns]"
      ]
     },
     "execution_count": 36,
     "metadata": {},
     "output_type": "execute_result"
    }
   ],
   "source": [
    "## million rows data set\n",
    "big_e=pd.read_csv(\"p_e_big.csv\")\n",
    "big_e"
   ]
  },
  {
   "cell_type": "code",
   "execution_count": 45,
   "id": "7b82eff8",
   "metadata": {},
   "outputs": [
    {
     "data": {
      "text/plain": [
       "'2003-01-21'"
      ]
     },
     "execution_count": 45,
     "metadata": {},
     "output_type": "execute_result"
    }
   ],
   "source": [
    "big_e[\"firm_id\"][0]\n",
    "big_e[\"date\"][0]"
   ]
  },
  {
   "cell_type": "code",
   "execution_count": 55,
   "id": "b77e032f",
   "metadata": {},
   "outputs": [
    {
     "name": "stdout",
     "output_type": "stream",
     "text": [
      "2min 1s ± 1.65 s per loop (mean ± std. dev. of 5 runs, 10 loops each)\n"
     ]
    }
   ],
   "source": [
    "# %%timeit -r 5 -n 10\n",
    "for i in np.arange(0,200000):\n",
    "    event2=es.Single.market_model(\n",
    "            security_ticker =\"MSFT\" ,\n",
    "            market_ticker = 'SPY',\n",
    "            event_date = np.datetime64('2003-01-16'),\n",
    "            event_window = (-2,+2), \n",
    "            estimation_size = 250,\n",
    "            buffer_size = 1\n",
    "    )\n",
    "#     print(event2.results(decimals=[5,5,3,5,2,2]))"
   ]
  },
  {
   "cell_type": "code",
   "execution_count": 47,
   "id": "8b016ddb",
   "metadata": {
    "scrolled": true
   },
   "outputs": [
    {
     "data": {
      "text/html": [
       "<div>\n",
       "<style scoped>\n",
       "    .dataframe tbody tr th:only-of-type {\n",
       "        vertical-align: middle;\n",
       "    }\n",
       "\n",
       "    .dataframe tbody tr th {\n",
       "        vertical-align: top;\n",
       "    }\n",
       "\n",
       "    .dataframe thead th {\n",
       "        text-align: right;\n",
       "    }\n",
       "</style>\n",
       "<table border=\"1\" class=\"dataframe\">\n",
       "  <thead>\n",
       "    <tr style=\"text-align: right;\">\n",
       "      <th></th>\n",
       "      <th>AR</th>\n",
       "      <th>Std. E. AR</th>\n",
       "      <th>CAR</th>\n",
       "      <th>Std. E. CAR</th>\n",
       "      <th>T-stat</th>\n",
       "      <th>P-value</th>\n",
       "    </tr>\n",
       "  </thead>\n",
       "  <tbody>\n",
       "    <tr>\n",
       "      <th>-2</th>\n",
       "      <td>0.002</td>\n",
       "      <td>0.017</td>\n",
       "      <td>0.002</td>\n",
       "      <td>0.017</td>\n",
       "      <td>0.122</td>\n",
       "      <td>0.903</td>\n",
       "    </tr>\n",
       "    <tr>\n",
       "      <th>-1</th>\n",
       "      <td>0.006</td>\n",
       "      <td>0.017</td>\n",
       "      <td>0.008</td>\n",
       "      <td>0.023</td>\n",
       "      <td>0.354</td>\n",
       "      <td>0.724</td>\n",
       "    </tr>\n",
       "    <tr>\n",
       "      <th>0</th>\n",
       "      <td>-0.012</td>\n",
       "      <td>0.017</td>\n",
       "      <td>-0.003</td>\n",
       "      <td>0.029</td>\n",
       "      <td>-0.119</td>\n",
       "      <td>0.905</td>\n",
       "    </tr>\n",
       "    <tr>\n",
       "      <th>1</th>\n",
       "      <td>-0.053</td>\n",
       "      <td>0.017</td>\n",
       "      <td>-0.056 *</td>\n",
       "      <td>0.033</td>\n",
       "      <td>-1.697</td>\n",
       "      <td>0.091</td>\n",
       "    </tr>\n",
       "    <tr>\n",
       "      <th>2</th>\n",
       "      <td>0.017</td>\n",
       "      <td>0.017</td>\n",
       "      <td>-0.039</td>\n",
       "      <td>0.037</td>\n",
       "      <td>-1.059</td>\n",
       "      <td>0.291</td>\n",
       "    </tr>\n",
       "  </tbody>\n",
       "</table>\n",
       "</div>"
      ],
      "text/plain": [
       "       AR  Std. E. AR       CAR  Std. E. CAR  T-stat  P-value\n",
       "-2  0.002       0.017     0.002        0.017   0.122    0.903\n",
       "-1  0.006       0.017     0.008        0.023   0.354    0.724\n",
       "0  -0.012       0.017    -0.003        0.029  -0.119    0.905\n",
       "1  -0.053       0.017  -0.056 *        0.033  -1.697    0.091\n",
       "2   0.017       0.017    -0.039        0.037  -1.059    0.291"
      ]
     },
     "execution_count": 47,
     "metadata": {},
     "output_type": "execute_result"
    }
   ],
   "source": [
    "event2.results()"
   ]
  },
  {
   "cell_type": "code",
   "execution_count": null,
   "id": "b7fafc44",
   "metadata": {},
   "outputs": [],
   "source": []
  }
 ],
 "metadata": {
  "kernelspec": {
   "display_name": "Python 3 (ipykernel)",
   "language": "python",
   "name": "python3"
  },
  "language_info": {
   "codemirror_mode": {
    "name": "ipython",
    "version": 3
   },
   "file_extension": ".py",
   "mimetype": "text/x-python",
   "name": "python",
   "nbconvert_exporter": "python",
   "pygments_lexer": "ipython3",
   "version": "3.9.12"
  }
 },
 "nbformat": 4,
 "nbformat_minor": 5
}
